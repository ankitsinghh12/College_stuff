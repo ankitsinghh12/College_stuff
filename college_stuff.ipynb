{
 "cells": [
  {
   "cell_type": "markdown",
   "id": "ddd65cc7",
   "metadata": {},
   "source": [
    "## Access the Elements of an Array\n"
   ]
  },
  {
   "cell_type": "code",
   "execution_count": 1,
   "id": "6c4c99bc",
   "metadata": {},
   "outputs": [],
   "source": [
    "num1= [10,20,30,40,50]\n",
    "num2=[10.5,20.6,30.7,40.8,50.9]\n",
    "names=[\"XYZ\", \"PQR\", \"ABC\", \"LMN\"]\n",
    "grades=['A','B','C','D','E']"
   ]
  },
  {
   "cell_type": "code",
   "execution_count": 3,
   "id": "5ea61a32",
   "metadata": {},
   "outputs": [
    {
     "name": "stdout",
     "output_type": "stream",
     "text": [
      "20\n"
     ]
    }
   ],
   "source": [
    "print(num1[1])"
   ]
  },
  {
   "cell_type": "code",
   "execution_count": 4,
   "id": "5c1d320b",
   "metadata": {},
   "outputs": [
    {
     "name": "stdout",
     "output_type": "stream",
     "text": [
      "50\n"
     ]
    }
   ],
   "source": [
    "print(num1[-1])"
   ]
  },
  {
   "cell_type": "code",
   "execution_count": 5,
   "id": "d3943287",
   "metadata": {},
   "outputs": [
    {
     "name": "stdout",
     "output_type": "stream",
     "text": [
      "5\n"
     ]
    }
   ],
   "source": [
    "print(len(num2))"
   ]
  },
  {
   "cell_type": "markdown",
   "id": "5eb0e4c3",
   "metadata": {},
   "source": [
    "## Changing the Elements of an Array"
   ]
  },
  {
   "cell_type": "code",
   "execution_count": 6,
   "id": "fc895628",
   "metadata": {},
   "outputs": [],
   "source": [
    "num1= [10,20,30,40,50]\n",
    "num2=[10.5,20.6,30.7,40.8,50.9]\n",
    "names=[\"XYZ\", \"PQR\", \"ABC\", \"LMN\"]\n",
    "grades=['A','B','C','D','E']"
   ]
  },
  {
   "cell_type": "code",
   "execution_count": 7,
   "id": "d6070ead",
   "metadata": {},
   "outputs": [
    {
     "name": "stdout",
     "output_type": "stream",
     "text": [
      "[100, 20, 30, 40, 50]\n"
     ]
    }
   ],
   "source": [
    "num1[0]=100 #changing the elements of the array\n",
    "print(num1)"
   ]
  },
  {
   "cell_type": "code",
   "execution_count": 8,
   "id": "fede4bc2",
   "metadata": {},
   "outputs": [
    {
     "name": "stdout",
     "output_type": "stream",
     "text": [
      "[10.5, 20.6, 30.7, 40.8, 50.9, 90.45]\n"
     ]
    }
   ],
   "source": [
    "num2.append(90.45)\n",
    "print(num2)"
   ]
  },
  {
   "cell_type": "code",
   "execution_count": 9,
   "id": "cfee20b0",
   "metadata": {},
   "outputs": [
    {
     "name": "stdout",
     "output_type": "stream",
     "text": [
      "['XYZ', 'PQR', 'LMN']\n"
     ]
    }
   ],
   "source": [
    "names.pop(2)\n",
    "print(names)"
   ]
  },
  {
   "cell_type": "code",
   "execution_count": 10,
   "id": "d7257aa1",
   "metadata": {},
   "outputs": [
    {
     "name": "stdout",
     "output_type": "stream",
     "text": [
      "['A', 'B', 'C', 'D']\n"
     ]
    }
   ],
   "source": [
    "grades.pop(4)\n",
    "print(grades)"
   ]
  },
  {
   "cell_type": "markdown",
   "id": "52193af7",
   "metadata": {},
   "source": [
    "## Removing elements of an array using del, remove() and pop()"
   ]
  },
  {
   "cell_type": "code",
   "execution_count": 16,
   "id": "7874e3bf",
   "metadata": {},
   "outputs": [],
   "source": [
    "color = [\"violet\", \"indigo\", \"blue\", \"green\", \"yellow\", \"orange\", \"red\"] "
   ]
  },
  {
   "cell_type": "code",
   "execution_count": 17,
   "id": "8fe02dcd",
   "metadata": {},
   "outputs": [
    {
     "name": "stdout",
     "output_type": "stream",
     "text": [
      "['violet', 'indigo', 'blue', 'green', 'orange', 'red']\n"
     ]
    }
   ],
   "source": [
    "del color[4]\n",
    "print(color)"
   ]
  },
  {
   "cell_type": "code",
   "execution_count": 18,
   "id": "cfea8fc5",
   "metadata": {},
   "outputs": [
    {
     "name": "stdout",
     "output_type": "stream",
     "text": [
      "['violet', 'indigo', 'green', 'orange', 'red']\n"
     ]
    }
   ],
   "source": [
    "color.remove(\"blue\")\n",
    "print(color)"
   ]
  },
  {
   "cell_type": "code",
   "execution_count": 19,
   "id": "0666557b",
   "metadata": {},
   "outputs": [
    {
     "name": "stdout",
     "output_type": "stream",
     "text": [
      "['violet', 'indigo', 'green', 'red']\n"
     ]
    }
   ],
   "source": [
    "color.pop(3)\n",
    "print(color)"
   ]
  },
  {
   "cell_type": "markdown",
   "id": "583f153e",
   "metadata": {},
   "source": [
    "## Built-in methods of array"
   ]
  },
  {
   "cell_type": "code",
   "execution_count": 21,
   "id": "48c66033",
   "metadata": {},
   "outputs": [],
   "source": [
    "num1= [10,20,30,40,50]\n",
    "num2=[10.5,20.6,30.7,40.8,50.9]\n",
    "names=[\"XYZ\", \"PQR\", \"ABC\", \"LMN\"]\n",
    "grades=['A','B','C','D','E']"
   ]
  },
  {
   "cell_type": "code",
   "execution_count": 22,
   "id": "ea2c809d",
   "metadata": {},
   "outputs": [
    {
     "name": "stdout",
     "output_type": "stream",
     "text": [
      "[10.5, 20.6, 30.7, 40.8, 50.9]\n"
     ]
    }
   ],
   "source": [
    "num3 = num2.copy()\n",
    "print(num3)"
   ]
  },
  {
   "cell_type": "code",
   "execution_count": 23,
   "id": "5059daf2",
   "metadata": {},
   "outputs": [
    {
     "name": "stdout",
     "output_type": "stream",
     "text": [
      "1\n"
     ]
    }
   ],
   "source": [
    "c = names.count(\"PQR\")\n",
    "print(c)"
   ]
  },
  {
   "cell_type": "code",
   "execution_count": 24,
   "id": "3836426a",
   "metadata": {},
   "outputs": [
    {
     "name": "stdout",
     "output_type": "stream",
     "text": [
      "['XYZ', 'Hi', 'PQR', 'ABC', 'LMN']\n"
     ]
    }
   ],
   "source": [
    "names.insert(1, \"Hi\")\n",
    "print(names)"
   ]
  },
  {
   "cell_type": "code",
   "execution_count": 25,
   "id": "59b07794",
   "metadata": {},
   "outputs": [
    {
     "name": "stdout",
     "output_type": "stream",
     "text": [
      "['A', 'B', 'D', 'E']\n"
     ]
    }
   ],
   "source": [
    "grades.remove(\"C\")\n",
    "print(grades)"
   ]
  },
  {
   "cell_type": "code",
   "execution_count": 26,
   "id": "cfaa66ef",
   "metadata": {},
   "outputs": [
    {
     "name": "stdout",
     "output_type": "stream",
     "text": [
      "['ABC', 'Hi', 'LMN', 'PQR', 'XYZ']\n"
     ]
    }
   ],
   "source": [
    "names.sort()\n",
    "print(names)"
   ]
  },
  {
   "cell_type": "code",
   "execution_count": 27,
   "id": "f6c52f3c",
   "metadata": {},
   "outputs": [
    {
     "name": "stdout",
     "output_type": "stream",
     "text": [
      "['E', 'D', 'B', 'A']\n"
     ]
    }
   ],
   "source": [
    "grades.reverse()\n",
    "print(grades)"
   ]
  },
  {
   "cell_type": "markdown",
   "id": "b91a6113",
   "metadata": {},
   "source": [
    "## Numpy"
   ]
  },
  {
   "cell_type": "code",
   "execution_count": 29,
   "id": "37ff414f",
   "metadata": {},
   "outputs": [
    {
     "name": "stdout",
     "output_type": "stream",
     "text": [
      "['XYZ' 'PQR' 'ABC' 'LMN']\n"
     ]
    }
   ],
   "source": [
    "import numpy as arr\n",
    "names = arr.array([\"XYZ\", \"PQR\", \"ABC\", \"LMN\"])\n",
    "print(names)"
   ]
  },
  {
   "cell_type": "code",
   "execution_count": 30,
   "id": "909d44bc",
   "metadata": {},
   "outputs": [
    {
     "name": "stdout",
     "output_type": "stream",
     "text": [
      "[[ 10  20  30  40  50]\n",
      " [ 60  70  80  90 100]]\n"
     ]
    }
   ],
   "source": [
    "nums1=[10,20,30,40,50]\n",
    "nums2=[60,70,80,90,100]\n",
    "twodnum=arr.array([nums1, nums2])\n",
    "print(twodnum)"
   ]
  },
  {
   "cell_type": "code",
   "execution_count": 36,
   "id": "3c168a0f",
   "metadata": {},
   "outputs": [],
   "source": [
    "import numpy as np\n",
    "l1=[10, 20, 30,70,50]\n",
    "l2=[40, 50, 60,60,40]"
   ]
  },
  {
   "cell_type": "code",
   "execution_count": 37,
   "id": "aaf5d1db",
   "metadata": {},
   "outputs": [
    {
     "name": "stdout",
     "output_type": "stream",
     "text": [
      "[ 50  70  90 130  90]\n"
     ]
    }
   ],
   "source": [
    "arrA = np.array(l1)\n",
    "arrB = np.array(l2)\n",
    "arrC = arrA + arrB\n",
    "print(arrC)"
   ]
  },
  {
   "cell_type": "code",
   "execution_count": 38,
   "id": "ba1c4cf9",
   "metadata": {},
   "outputs": [
    {
     "name": "stdout",
     "output_type": "stream",
     "text": [
      "130\n"
     ]
    }
   ],
   "source": [
    "print(arrC[-2])"
   ]
  },
  {
   "cell_type": "code",
   "execution_count": 39,
   "id": "bee062ea",
   "metadata": {},
   "outputs": [
    {
     "name": "stdout",
     "output_type": "stream",
     "text": [
      "[ 90 130]\n"
     ]
    }
   ],
   "source": [
    "print(arrC[2:4])"
   ]
  },
  {
   "cell_type": "markdown",
   "id": "07f97df6",
   "metadata": {},
   "source": [
    "## Lists"
   ]
  },
  {
   "cell_type": "code",
   "execution_count": 41,
   "id": "bf26d6fc",
   "metadata": {},
   "outputs": [
    {
     "data": {
      "text/plain": [
       "[1, 4, 9, 16, 25]"
      ]
     },
     "execution_count": 41,
     "metadata": {},
     "output_type": "execute_result"
    }
   ],
   "source": [
    "squares = [1, 4, 9, 16, 25]\n",
    "squares"
   ]
  },
  {
   "cell_type": "code",
   "execution_count": 42,
   "id": "9e79e797",
   "metadata": {},
   "outputs": [
    {
     "data": {
      "text/plain": [
       "[1, 4, 9, 16, 25, 36, 49, 64, 81, 100]"
      ]
     },
     "execution_count": 42,
     "metadata": {},
     "output_type": "execute_result"
    }
   ],
   "source": [
    "squares + [36, 49, 64, 81, 100]"
   ]
  },
  {
   "cell_type": "code",
   "execution_count": 45,
   "id": "bf423a04",
   "metadata": {},
   "outputs": [
    {
     "data": {
      "text/plain": [
       "[1, 8, 27, 65, 125, 216]"
      ]
     },
     "execution_count": 45,
     "metadata": {},
     "output_type": "execute_result"
    }
   ],
   "source": [
    "# append() method \n",
    "cubes = [1, 8, 27, 65, 125]\n",
    "cubes.append(216)\n",
    "cubes"
   ]
  },
  {
   "cell_type": "code",
   "execution_count": 48,
   "id": "0bdc3595",
   "metadata": {},
   "outputs": [
    {
     "data": {
      "text/plain": [
       "[1, 8, 27, 65, 125, 216, 343, 343, 343]"
      ]
     },
     "execution_count": 48,
     "metadata": {},
     "output_type": "execute_result"
    }
   ],
   "source": [
    "cubes.append(7 ** 3)\n",
    "cubes"
   ]
  },
  {
   "cell_type": "code",
   "execution_count": 50,
   "id": "f6bd6b78",
   "metadata": {},
   "outputs": [
    {
     "data": {
      "text/plain": [
       "4"
      ]
     },
     "execution_count": 50,
     "metadata": {},
     "output_type": "execute_result"
    }
   ],
   "source": [
    "letters = ['a', 'b', 'c', 'd']\n",
    "len(letters)"
   ]
  },
  {
   "cell_type": "code",
   "execution_count": 52,
   "id": "5aa9184c",
   "metadata": {},
   "outputs": [
    {
     "data": {
      "text/plain": [
       "['a', 'b', 'c']"
      ]
     },
     "execution_count": 52,
     "metadata": {},
     "output_type": "execute_result"
    }
   ],
   "source": [
    "a = ['a', 'b', 'c']\n",
    "n = [1, 2, 3]\n",
    "x = [a, n]\n",
    "x = [['a', 'b', 'c'], [1, 2, 3]]\n",
    "x[0]"
   ]
  },
  {
   "cell_type": "code",
   "execution_count": 53,
   "id": "30c184db",
   "metadata": {},
   "outputs": [
    {
     "data": {
      "text/plain": [
       "'b'"
      ]
     },
     "execution_count": 53,
     "metadata": {},
     "output_type": "execute_result"
    }
   ],
   "source": [
    "x[0][1]"
   ]
  },
  {
   "cell_type": "markdown",
   "id": "d288c460",
   "metadata": {},
   "source": [
    "## strings"
   ]
  },
  {
   "cell_type": "code",
   "execution_count": 1,
   "id": "3f503c30",
   "metadata": {},
   "outputs": [
    {
     "data": {
      "text/plain": [
       "'ClassRoom'"
      ]
     },
     "execution_count": 1,
     "metadata": {},
     "output_type": "execute_result"
    }
   ],
   "source": [
    "'ClassRoom'"
   ]
  },
  {
   "cell_type": "code",
   "execution_count": 2,
   "id": "c4557e21",
   "metadata": {},
   "outputs": [
    {
     "data": {
      "text/plain": [
       "\"doesnt't\""
      ]
     },
     "execution_count": 2,
     "metadata": {},
     "output_type": "execute_result"
    }
   ],
   "source": [
    "'doesnt\\'t'"
   ]
  },
  {
   "cell_type": "code",
   "execution_count": 3,
   "id": "1a1e4626",
   "metadata": {},
   "outputs": [
    {
     "data": {
      "text/plain": [
       "'P'"
      ]
     },
     "execution_count": 3,
     "metadata": {},
     "output_type": "execute_result"
    }
   ],
   "source": [
    "word = 'Python'\n",
    "word[0]"
   ]
  },
  {
   "cell_type": "code",
   "execution_count": 4,
   "id": "1cb2e495",
   "metadata": {},
   "outputs": [
    {
     "data": {
      "text/plain": [
       "'n'"
      ]
     },
     "execution_count": 4,
     "metadata": {},
     "output_type": "execute_result"
    }
   ],
   "source": [
    "word[-1]"
   ]
  },
  {
   "cell_type": "code",
   "execution_count": 5,
   "id": "b79c30fd",
   "metadata": {},
   "outputs": [
    {
     "data": {
      "text/plain": [
       "'Python'"
      ]
     },
     "execution_count": 5,
     "metadata": {},
     "output_type": "execute_result"
    }
   ],
   "source": [
    "word[:2]+word[2:]"
   ]
  },
  {
   "cell_type": "code",
   "execution_count": 6,
   "id": "a0549a25",
   "metadata": {},
   "outputs": [
    {
     "data": {
      "text/plain": [
       "'Python'"
      ]
     },
     "execution_count": 6,
     "metadata": {},
     "output_type": "execute_result"
    }
   ],
   "source": [
    "word[:4]+word[4:]"
   ]
  },
  {
   "cell_type": "code",
   "execution_count": 7,
   "id": "cee3b96f",
   "metadata": {},
   "outputs": [
    {
     "data": {
      "text/plain": [
       "'Py'"
      ]
     },
     "execution_count": 7,
     "metadata": {},
     "output_type": "execute_result"
    }
   ],
   "source": [
    "word[:2]"
   ]
  },
  {
   "cell_type": "code",
   "execution_count": 8,
   "id": "e908282c",
   "metadata": {},
   "outputs": [
    {
     "data": {
      "text/plain": [
       "'on'"
      ]
     },
     "execution_count": 8,
     "metadata": {},
     "output_type": "execute_result"
    }
   ],
   "source": [
    "word[4:]      #characters from position 4 (included) to the end "
   ]
  },
  {
   "cell_type": "code",
   "execution_count": 9,
   "id": "f60c684b",
   "metadata": {},
   "outputs": [
    {
     "data": {
      "text/plain": [
       "'on'"
      ]
     },
     "execution_count": 9,
     "metadata": {},
     "output_type": "execute_result"
    }
   ],
   "source": [
    "word[-2:]     #characters from the second-last(included) to the end"
   ]
  },
  {
   "cell_type": "code",
   "execution_count": null,
   "id": "98999895",
   "metadata": {},
   "outputs": [],
   "source": []
  }
 ],
 "metadata": {
  "kernelspec": {
   "display_name": "Python 3",
   "language": "python",
   "name": "python3"
  },
  "language_info": {
   "codemirror_mode": {
    "name": "ipython",
    "version": 3
   },
   "file_extension": ".py",
   "mimetype": "text/x-python",
   "name": "python",
   "nbconvert_exporter": "python",
   "pygments_lexer": "ipython3",
   "version": "3.8.8"
  }
 },
 "nbformat": 4,
 "nbformat_minor": 5
}
